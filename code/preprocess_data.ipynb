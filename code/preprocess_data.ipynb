{
 "cells": [
  {
   "cell_type": "markdown",
   "metadata": {},
   "source": [
    "# Preprocess Twitter Data\n",
    "\n",
    "#### First, import libraries and declare variables\n",
    "\n",
    "\n",
    "The outer dictionary would be of form\n",
    "\n",
    "**{ tweets: list_of_tweets }** \n",
    "\n",
    "with each tweet being a list with the form: \n",
    "\n",
    "**[ party_label, text, [hashtags], [account_tags], boolean_retweet, account ]**\n",
    "\n",
    "Thus creating the complete from of \n",
    "\n",
    "**{ tweets: [ [ party_label: text, [hashtags], [account_tags], boolean_retweet, account ] ]  }**\n"
   ]
  },
  {
   "cell_type": "code",
   "execution_count": 1,
   "metadata": {},
   "outputs": [
    {
     "ename": "ModuleNotFoundError",
     "evalue": "No module named 'preprocessor'",
     "output_type": "error",
     "traceback": [
      "\u001b[0;31m---------------------------------------------------------------------------\u001b[0m",
      "\u001b[0;31mModuleNotFoundError\u001b[0m                       Traceback (most recent call last)",
      "\u001b[0;32m<ipython-input-1-0be88b15c8f5>\u001b[0m in \u001b[0;36m<module>\u001b[0;34m\u001b[0m\n\u001b[1;32m      3\u001b[0m \u001b[0;32mimport\u001b[0m \u001b[0mrandom\u001b[0m\u001b[0;34m\u001b[0m\u001b[0;34m\u001b[0m\u001b[0m\n\u001b[1;32m      4\u001b[0m \u001b[0;32mimport\u001b[0m \u001b[0mstring\u001b[0m\u001b[0;34m\u001b[0m\u001b[0;34m\u001b[0m\u001b[0m\n\u001b[0;32m----> 5\u001b[0;31m \u001b[0;32mimport\u001b[0m \u001b[0mpreprocessor\u001b[0m \u001b[0;32mas\u001b[0m \u001b[0mpreprocess\u001b[0m\u001b[0;34m\u001b[0m\u001b[0;34m\u001b[0m\u001b[0m\n\u001b[0m\u001b[1;32m      6\u001b[0m \u001b[0;34m\u001b[0m\u001b[0m\n\u001b[1;32m      7\u001b[0m \u001b[0mfinal_data\u001b[0m \u001b[0;34m=\u001b[0m \u001b[0;34m{\u001b[0m\u001b[0;34m'tweets'\u001b[0m\u001b[0;34m:\u001b[0m \u001b[0;34m[\u001b[0m\u001b[0;34m]\u001b[0m\u001b[0;34m}\u001b[0m\u001b[0;34m\u001b[0m\u001b[0;34m\u001b[0m\u001b[0m\n",
      "\u001b[0;31mModuleNotFoundError\u001b[0m: No module named 'preprocessor'"
     ]
    }
   ],
   "source": [
    "import pandas as pd\n",
    "import pickle\n",
    "import random\n",
    "import string\n",
    "import preprocessor as preprocess\n",
    "\n",
    "final_data = {'tweets': []}"
   ]
  },
  {
   "cell_type": "markdown",
   "metadata": {},
   "source": [
    "#### Import representative dataset as dataframe"
   ]
  },
  {
   "cell_type": "code",
   "execution_count": null,
   "metadata": {},
   "outputs": [],
   "source": [
    "rep_tweets_df = pd.read_csv(\"../data/raw/ExtractedTweets.csv\")\n",
    "rep_tweets_df"
   ]
  },
  {
   "cell_type": "markdown",
   "metadata": {},
   "source": [
    "#### Preprocess representative dataset and add to data dictionary"
   ]
  },
  {
   "cell_type": "code",
   "execution_count": null,
   "metadata": {},
   "outputs": [],
   "source": [
    "# Process first dataset\n",
    "for line in rep_tweets_df.iterrows():\n",
    "    \n",
    "    # update variables\n",
    "    tweet = []\n",
    "    tweet_content = line[1]['Tweet']\n",
    "    if not tweet_content:\n",
    "        continue\n",
    "    retweet = tweet_content.startswith('RT')\n",
    "    handle = line[1]['Handle']\n",
    "    party = line[1]['Party']\n",
    "    hashtags = []\n",
    "    mentions = []\n",
    "    \n",
    "    # get hashtags and mentions\n",
    "    parsed_tweet = preprocess.parse(tweet_content)\n",
    "    if parsed_tweet.hashtags:\n",
    "        hashtags = [ht.match for ht in parsed_tweet.hashtags]\n",
    "    if parsed_tweet.mentions:\n",
    "        mentions = [m.match for m in parsed_tweet.mentions]\n",
    "    \n",
    "    # clean tweet for just words and make dictionary object\n",
    "    words = preprocess.clean(tweet_content)\n",
    "    # check if more than one letter\n",
    "    if not words:\n",
    "        continue\n",
    "    tweet = [party, words.translate(str.maketrans('', '', string.punctuation)), hashtags, mentions, retweet, handle, tweet_content]\n",
    "    final_data['tweets'].append(tweet)\n",
    "\n",
    "print('Done with dataset 1')"
   ]
  },
  {
   "cell_type": "markdown",
   "metadata": {},
   "source": [
    "#### Import second dataset: tweets of trump and clinton during 2016 presidential campaign"
   ]
  },
  {
   "cell_type": "code",
   "execution_count": null,
   "metadata": {},
   "outputs": [],
   "source": [
    "candidate_tweets_df = pd.read_csv(\"../data/raw/tweets.csv\")\n",
    "candidate_tweets_df"
   ]
  },
  {
   "cell_type": "markdown",
   "metadata": {},
   "source": [
    "#### Preprocess this dataset and add to data object"
   ]
  },
  {
   "cell_type": "code",
   "execution_count": null,
   "metadata": {},
   "outputs": [],
   "source": [
    "for line in candidate_tweets_df.iterrows():\n",
    "\n",
    "    # update variables\n",
    "    tweet = []\n",
    "    tweet_content = line[1]['text']\n",
    "    if not tweet_content:\n",
    "        continue\n",
    "    retweet = line[1]['is_retweet']\n",
    "    handle = line[1]['handle']\n",
    "    party = 'Democrat' if handle == 'HillaryClinton' else 'Republican'\n",
    "    hashtags = []\n",
    "    mentions = []\n",
    "    \n",
    "    # get hashtags and mentions\n",
    "    parsed_tweet = preprocess.parse(tweet_content)\n",
    "    if parsed_tweet.hashtags:\n",
    "        hashtags = [ht.match for ht in parsed_tweet.hashtags]\n",
    "    if parsed_tweet.mentions:\n",
    "        mentions = [m.match for m in parsed_tweet.mentions]\n",
    "    \n",
    "    # clean tweet for just words and make dictionary object\n",
    "    words = preprocess.clean(tweet_content)\n",
    "    # check if more than one letter\n",
    "    if not words:\n",
    "        continue\n",
    "        \n",
    "    # get retweet for some tweets that are surrounded by quotes\n",
    "    if words.startswith('/\":\"'):\n",
    "        retweet = True\n",
    "    tweet = [party, words.translate(str.maketrans('', '', string.punctuation)), hashtags, mentions, retweet, handle, tweet_content]\n",
    "    final_data['tweets'].append(tweet)\n",
    "\n",
    "print('Done with dataset 2')"
   ]
  },
  {
   "cell_type": "markdown",
   "metadata": {},
   "source": [
    "#### Separate into training and testing data"
   ]
  },
  {
   "cell_type": "code",
   "execution_count": null,
   "metadata": {},
   "outputs": [],
   "source": [
    "# define percent to be testing data\n",
    "percent_testing = 0.2\n",
    "testing_data = {'tweets': []}\n",
    "\n",
    "length = len(final_data['tweets'])\n",
    "testing_amount = int( percent_testing * length )\n",
    "\n",
    "for t in range(0, testing_amount):\n",
    "    length = len(final_data['tweets'])\n",
    "    n = random.randint(0,length-1)\n",
    "    tw = final_data['tweets'].pop(n)\n",
    "    testing_data['tweets'].append(tw)\n",
    "print('Done seperating')"
   ]
  },
  {
   "cell_type": "markdown",
   "metadata": {},
   "source": [
    "#### Save data objects as pickle files"
   ]
  },
  {
   "cell_type": "code",
   "execution_count": null,
   "metadata": {},
   "outputs": [],
   "source": [
    "with open('../data/testing_data.obj', 'wb') as testing_file:\n",
    "    pickle.dump(testing_data, testing_file)\n",
    "\n",
    "with open('../data/training_data.obj', 'wb') as training_file:\n",
    "    pickle.dump(final_data, training_file)\n",
    "    \n",
    "print('Complete')"
   ]
  },
  {
   "cell_type": "code",
   "execution_count": null,
   "metadata": {},
   "outputs": [],
   "source": []
  }
 ],
 "metadata": {
  "kernelspec": {
   "display_name": "Python 3",
   "language": "python",
   "name": "python3"
  },
  "language_info": {
   "codemirror_mode": {
    "name": "ipython",
    "version": 3
   },
   "file_extension": ".py",
   "mimetype": "text/x-python",
   "name": "python",
   "nbconvert_exporter": "python",
   "pygments_lexer": "ipython3",
   "version": "3.8.3"
  }
 },
 "nbformat": 4,
 "nbformat_minor": 4
}
